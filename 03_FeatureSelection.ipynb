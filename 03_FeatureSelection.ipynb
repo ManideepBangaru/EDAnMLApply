{
 "cells": [
  {
   "cell_type": "markdown",
   "metadata": {},
   "source": [
    "<h1 style=text-align:center;color:brown;font:bold> Data PreProcessing </h1>"
   ]
  },
  {
   "cell_type": "markdown",
   "metadata": {},
   "source": [
    "## Divided into 6 parts\n",
    "    * Common Data preparation tasks\n",
    "    * Data Cleaning\n",
    "    * Feature Selection\n",
    "    * Data Transformation\n",
    "    * Feature engineering\n",
    "    * Dimensionality Reduction"
   ]
  },
  {
   "cell_type": "markdown",
   "metadata": {},
   "source": [
    "<h1 style=text-align:center;color:blue;font:bold> Feature Selection </h1>"
   ]
  },
  {
   "cell_type": "markdown",
   "metadata": {},
   "source": [
    "<h1 style=text-align:left;color:purple;font:bold> Why Feature Selection ? </h1>"
   ]
  },
  {
   "cell_type": "markdown",
   "metadata": {},
   "source": [
    "Feature selection is the process of reducing the number of input variables when developing a predictive model. It is desirable to reduce the number of input variables to both reduce the computational cost of modeling and, in many cases, to improve the performance of the model. \n",
    "\n",
    "Statistical-based feature selection methods involve evaluating the relationship between each input variable and the target variable using statistics and selecting those input variables that have the strongest relationship with the target variable. These methods can be fast and effective, although the choice of statistical measures depends on the data type of both the input and output variables.\n",
    "\n",
    "As such, it can be challenging for a machine learning practitioner to select an appropriate statistical measure for a dataset when performing filter-based feature selection. In this tutorial, you will discover how to choose statistical measures for filter-based feature selection with numerical and categorical data.\n",
    "\n",
    "* There are two main types of feature selection techniques: supervised and unsupervised, and supervised methods may be divided into wrapper, filter and intrinsic.\n",
    "\n",
    "* Filter-based feature selection methods use statistical measures to score the correlation or dependence between input variables that can be filtered to choose the most relevant features.\n",
    "\n",
    "* Statistical measures for feature selection must be carefully chosen based on the data type of the input variable and the output or response variable.\n",
    "\n",
    "<h2 style=text-align:left;color:lime;font:bold> Statistics for Feature Selection </h2>\n",
    "\n",
    "One way to think about feature selection methods are in terms of supervised and unsupervised methods. The difference has to do with whether features are selected based on the target variable or not.\n",
    ">  Unsupervised Selection: Do not use the target variable (e.g. remove redundant variables).\n",
    "\n",
    ">  Supervised Selection: Use the target variable (e.g. remove irrelevant variables)."
   ]
  },
  {
   "cell_type": "markdown",
   "metadata": {},
   "source": [
    "Supervised feature selection methods may further be classified into three groups, including\n",
    "intrinsic, wrapper, filter methods.\n",
    "* Intrinsic: Algorithms that perform automatic feature selection during training.\n",
    "* Filter: Select subsets of features based on their relationship with the target.\n",
    "* Wrapper: Search subsets of features that perform according to a predictive model."
   ]
  },
  {
   "cell_type": "markdown",
   "metadata": {},
   "source": [
    "### Numerical Input, Numerical Output\n",
    "* Pearson’s correlation coefficient (linear)\n",
    "* Spearman’s rank coefficient (nonlinear)\n",
    "* Mutual Information\n",
    "\n",
    "### Numerical Input, Categorical Output\n",
    "* ANOVA correlation coefficient (linear)\n",
    "* Kendall’s rank coefficient (nonlinear)\n",
    "* Mutual Information.\n",
    "\n",
    "### Categorical Input, Numerical Output\n",
    "* ANOVA correlation coefficient (linear)\n",
    "* Kendall’s rank coefficient (nonlinear)\n",
    "* Mutual Information.\n",
    "\n",
    "### Categorical Input, Categorical Output\n",
    "* Chi-Squared test (contingency tables)\n",
    "* Mutual Information (information gain)"
   ]
  },
  {
   "cell_type": "markdown",
   "metadata": {},
   "source": [
    "<h2 style=text-align:left;color:lime;font:bold> Feature Selection With Any Data Type </h2>\n",
    "\n",
    "* Tree-Searching Methods (depth-first, breadth-first, etc.)\n",
    "* Stochastic Global Search (simulated annealing, genetic algorithm)\n",
    "\n",
    "Simpler methods involve systematically adding or removing features from the model until no further improvement is seen. This includes so-called step-wise models\n",
    "\n",
    "* Step-Wise Models\n",
    "* RFE\n",
    "\n",
    "A final data type agnostic method is to score input features using a model and use a filter-based feature selection method. Many models will automatically select features or score features as part of fitting the model and these scores can be used just like the statistical methods described above. Decision tree algorithms and ensembles of decision tree algorithms provide a input variable data type agnostic method of scoring input variables, including algorithms such as:\n",
    "\n",
    "* Classification and Regression Trees (CART)\n",
    "* Random Forest\n",
    "* Bagged Decision Trees\n",
    "* Gradient Boosting"
   ]
  },
  {
   "cell_type": "markdown",
   "metadata": {},
   "source": [
    "<h2 style=text-align:left;color:lime;font:bold> How to Select Categorical input features </h2>"
   ]
  },
  {
   "cell_type": "markdown",
   "metadata": {},
   "source": [
    "### Categorical Feature Selection\n",
    "* Chi-squared statistic\n",
    "* Mutual information statistic"
   ]
  },
  {
   "cell_type": "code",
   "execution_count": 1,
   "metadata": {},
   "outputs": [],
   "source": [
    "# load libraries\n",
    "import pandas as pd\n",
    "from sklearn.model_selection import train_test_split\n",
    "from sklearn.preprocessing import OrdinalEncoder,LabelEncoder\n",
    "from sklearn.feature_selection import SelectKBest, chi2, mutual_info_classif\n",
    "from sklearn.linear_model import LogisticRegression\n",
    "from sklearn.metrics import accuracy_score\n",
    "import matplotlib.pyplot as plt"
   ]
  },
  {
   "cell_type": "code",
   "execution_count": 2,
   "metadata": {},
   "outputs": [],
   "source": [
    "# load the dataset\n",
    "def load_dataset(filename):\n",
    "    data = pd.read_csv(filename,header=None)\n",
    "    dataset = data.values\n",
    "    X = dataset[:,:-1]\n",
    "    y = dataset[:,-1]\n",
    "    X = X.astype(str)\n",
    "    return X, y\n",
    "\n",
    "# prepare input data\n",
    "def prepare_inputs(X, X_train, X_test):\n",
    "    oe = OrdinalEncoder()\n",
    "    oe.fit(X)\n",
    "    X_train_enc = oe.transform(X_train)\n",
    "    X_test_enc = oe.transform(X_test)\n",
    "    return X_train_enc, X_test_enc\n",
    "\n",
    "# prepare output data\n",
    "def prepare_outputs(y_train, y_test):\n",
    "    le = LabelEncoder()\n",
    "    le.fit(y_train)\n",
    "    y_train_enc = le.transform(y_train)\n",
    "    y_test_enc = le.transform(y_test)\n",
    "    return y_train_enc, y_test_enc\n",
    "\n",
    "def select_features_chi2(X_train_enc, y_train_enc, X_test_enc):\n",
    "    fs = SelectKBest(score_func=chi2, k = \"all\")\n",
    "    fs.fit(X_train_enc, y_train_enc)\n",
    "    X_train_enc_fs = fs.transform(X_train_enc)\n",
    "    X_test_enc_fs = fs.transform(X_test_enc)\n",
    "    return X_train_enc_fs, X_test_enc_fs, fs\n",
    "\n",
    "def select_features_mutualinfo(X_train_enc, y_train_enc, X_test_enc):\n",
    "    fs = SelectKBest(score_func=mutual_info_classif, k = \"all\")\n",
    "    fs.fit(X_train_enc, y_train_enc)\n",
    "    X_train_enc_fs = fs.transform(X_train_enc)\n",
    "    X_test_enc_fs = fs.transform(X_test_enc)\n",
    "    return X_train_enc_fs, X_test_enc_fs, fs"
   ]
  },
  {
   "cell_type": "code",
   "execution_count": 3,
   "metadata": {},
   "outputs": [
    {
     "name": "stdout",
     "output_type": "stream",
     "text": [
      "Feature scores using chi2\n",
      "Feature 0 : 0.003227\n",
      "Feature 1 : 0.269693\n",
      "Feature 2 : 6.239899\n",
      "Feature 3 : 102.498674\n",
      "Feature 4 : 16.425408\n",
      "Feature 5 : 12.775301\n",
      "Feature 6 : 0.381045\n",
      "Feature 7 : 0.110901\n",
      "Feature 8 : 9.139402\n",
      "\n",
      "Feature scores using mutual information\n",
      "Feature 0 : 0.000000\n",
      "Feature 1 : 0.000000\n",
      "Feature 2 : 0.006265\n",
      "Feature 3 : 0.054607\n",
      "Feature 4 : 0.054286\n",
      "Feature 5 : 0.112114\n",
      "Feature 6 : 0.000000\n",
      "Feature 7 : 0.000000\n",
      "Feature 8 : 0.027241\n"
     ]
    },
    {
     "data": {
      "image/png": "[encoded data removed]",
      "text/plain": [
       "<Figure size 432x288 with 1 Axes>"
      ]
     },
     "metadata": {
      "needs_background": "light"
     },
     "output_type": "display_data"
    },
    {
     "data": {
      "image/png": "[encoded data removed]",
      "text/plain": [
       "<Figure size 432x288 with 1 Axes>"
      ]
     },
     "metadata": {
      "needs_background": "light"
     },
     "output_type": "display_data"
    }
   ],
   "source": [
    "# Load the dataset\n",
    "X, y = load_dataset(\"/Users/manideepbangaru/Documents/EDAnMLApply/Datasets/breast-cancer.csv\")\n",
    "\n",
    "# Split data into train and test sets\n",
    "X_train, X_test, y_train, y_test = train_test_split(X, y, test_size=0.33, random_state=123)\n",
    "\n",
    "# Prepare input data\n",
    "X_train_enc, X_test_enc = prepare_inputs(X, X_train,X_test)\n",
    "\n",
    "# Prepare output data\n",
    "y_train_enc, y_test_enc = prepare_outputs(y_train, y_test)\n",
    "\n",
    "# feature selection using Chi2\n",
    "X_train_enc_fs_chi2, X_test_enc_fs_chi2, fs_chi2 = select_features_chi2(X_train_enc, y_train_enc, X_test_enc)\n",
    "\n",
    "# feature selection using mutualinfo\n",
    "X_train_enc_fs_mi, X_test_enc_fs_mi, fs_mi = select_features_mutualinfo(X_train_enc, y_train_enc, X_test_enc)\n",
    "\n",
    "# scores for the features\n",
    "print(\"Feature scores using chi2\")\n",
    "for i in range(len(fs_chi2.scores_)):\n",
    "    print(\"Feature %s : %f\"%(i,fs_chi2.scores_[i]))\n",
    "\n",
    "print(\"\\nFeature scores using mutual information\")\n",
    "for i in range(len(fs_mi.scores_)):\n",
    "    print(\"Feature %s : %f\"%(i,fs_mi.scores_[i]))\n",
    "\n",
    "# plot the scores\n",
    "plt.bar([i for i in range(len(fs_chi2.scores_))],fs_chi2.scores_)\n",
    "plt.title(\"Feature selection using Chi2\")\n",
    "plt.show()\n",
    "\n",
    "plt.bar([i for i in range(len(fs_mi.scores_))],fs_mi.scores_)\n",
    "plt.title(\"Feature selection using Mutual Information\")\n",
    "plt.show()\n"
   ]
  },
  {
   "cell_type": "markdown",
   "metadata": {},
   "source": [
    "> Chi2 : We could see from the above graph that only 5 features are relevant, so we can set k value to 5\n",
    "\n",
    "> Mutual Info : We could see that 7 features are relevant, so we can set k value to 7"
   ]
  },
  {
   "cell_type": "code",
   "execution_count": 4,
   "metadata": {},
   "outputs": [],
   "source": [
    "# Modify the feature selection functions by defining k value\n",
    "def select_features_chi2(X_train_enc, y_train_enc, X_test_enc):\n",
    "    fs = SelectKBest(score_func=chi2, k = 4)\n",
    "    fs.fit(X_train_enc, y_train_enc)\n",
    "    X_train_enc_fs = fs.transform(X_train_enc)\n",
    "    X_test_enc_fs = fs.transform(X_test_enc)\n",
    "    return X_train_enc_fs, X_test_enc_fs, fs\n",
    "\n",
    "def select_features_mutualinfo(X_train_enc, y_train_enc, X_test_enc):\n",
    "    fs = SelectKBest(score_func=mutual_info_classif, k = 7)\n",
    "    fs.fit(X_train_enc, y_train_enc)\n",
    "    X_train_enc_fs = fs.transform(X_train_enc)\n",
    "    X_test_enc_fs = fs.transform(X_test_enc)\n",
    "    return X_train_enc_fs, X_test_enc_fs, fs"
   ]
  },
  {
   "cell_type": "markdown",
   "metadata": {},
   "source": [
    "### Build the model"
   ]
  },
  {
   "cell_type": "code",
   "execution_count": 6,
   "metadata": {},
   "outputs": [
    {
     "name": "stdout",
     "output_type": "stream",
     "text": [
      "Without any Feature selection accuracy is : 77.89\n",
      "With chi2 Feature selection accuracy is : 81.05\n",
      "With Mutual information Feature selection accuracy is : 80.00\n"
     ]
    }
   ],
   "source": [
    "# Load the dataset\n",
    "X, y = load_dataset(\"/Users/manideepbangaru/Documents/EDAnMLApply/Datasets/breast-cancer.csv\")\n",
    "\n",
    "# Split data into train and test sets\n",
    "X_train, X_test, y_train, y_test = train_test_split(X, y, test_size=0.33, random_state=111)\n",
    "\n",
    "# Prepare input data\n",
    "X_train_enc, X_test_enc = prepare_inputs(X, X_train,X_test)\n",
    "\n",
    "# Prepare output data\n",
    "y_train_enc, y_test_enc = prepare_outputs(y_train, y_test)\n",
    "\n",
    "# feature selection using Chi2\n",
    "X_train_enc_fs_chi2, X_test_enc_fs_chi2, fs_chi2 = select_features_chi2(X_train_enc, y_train_enc, X_test_enc)\n",
    "\n",
    "# feature selection using mutualinfo\n",
    "X_train_enc_fs_mi, X_test_enc_fs_mi, fs_mi = select_features_mutualinfo(X_train_enc, y_train_enc, X_test_enc)\n",
    "\n",
    "# Build the models\n",
    "\n",
    "# model without any feature selection\n",
    "model1 = LogisticRegression(solver=\"lbfgs\")\n",
    "model1.fit(X_train_enc, y_train_enc)\n",
    "y_pred1 = model1.predict(X_test_enc)\n",
    "accuracy1 = accuracy_score(y_test_enc,y_pred1) * 100\n",
    "print(\"Without any Feature selection accuracy is : %.2f\"%(accuracy1))\n",
    "\n",
    "# model using chi2 feature selection\n",
    "model2 = LogisticRegression(solver=\"lbfgs\")\n",
    "model2.fit(X_train_enc_fs_chi2, y_train_enc)\n",
    "y_pred2 = model2.predict(X_test_enc_fs_chi2)\n",
    "accuracy2 = accuracy_score(y_test_enc,y_pred2) * 100\n",
    "print(\"With chi2 Feature selection accuracy is : %.2f\"%(accuracy2))\n",
    "\n",
    "# model using Mutual Information feature selection\n",
    "model3 = LogisticRegression(solver=\"lbfgs\")\n",
    "model3.fit(X_train_enc_fs_mi, y_train_enc)\n",
    "y_pred3 = model3.predict(X_test_enc_fs_mi)\n",
    "accuracy3 = accuracy_score(y_test_enc,y_pred3) * 100\n",
    "print(\"With Mutual information Feature selection accuracy is : %.2f\"%(accuracy3))"
   ]
  },
  {
   "cell_type": "markdown",
   "metadata": {},
   "source": [
    "> Looks like here, Chi2 is doing a better job. Neverthless we have to try with KFold to be sure of the accuracy"
   ]
  }
 ],
 "metadata": {
  "kernelspec": {
   "display_name": "Python 3.10.4 ('.mlenv': venv)",
   "language": "python",
   "name": "python3"
  },
  "language_info": {
   "codemirror_mode": {
    "name": "ipython",
    "version": 3
   },
   "file_extension": ".py",
   "mimetype": "text/x-python",
   "name": "python",
   "nbconvert_exporter": "python",
   "pygments_lexer": "ipython3",
   "version": "3.10.4"
  },
  "orig_nbformat": 4,
  "vscode": {
   "interpreter": {
    "hash": "cedfd3e4b37a9720fe3b219ed0a866f6a3a20179a0ee2a520f69b6a410e4f49a"
   }
  }
 },
 "nbformat": 4,
 "nbformat_minor": 2
}
