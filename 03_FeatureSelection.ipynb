{
 "cells": [
  {
   "cell_type": "markdown",
   "metadata": {},
   "source": [
    "<h1 style=text-align:center;color:brown;font:bold> Data PreProcessing </h1>"
   ]
  },
  {
   "cell_type": "markdown",
   "metadata": {},
   "source": [
    "## Divided into 6 parts\n",
    "    * Common Data preparation tasks\n",
    "    * Data Cleaning\n",
    "    * Feature Selection\n",
    "    * Data Transformation\n",
    "    * Feature engineering\n",
    "    * Dimensionality Reduction"
   ]
  },
  {
   "cell_type": "markdown",
   "metadata": {},
   "source": [
    "<h1 style=text-align:center;color:blue;font:bold> Feature Selection </h1>"
   ]
  },
  {
   "cell_type": "markdown",
   "metadata": {},
   "source": [
    "<h1 style=text-align:left;color:lime;font:bold> Why Feature Selection ? </h1>"
   ]
  },
  {
   "cell_type": "markdown",
   "metadata": {},
   "source": [
    "Feature selection is the process of reducing the number of input variables when developing a predictive model. It is desirable to reduce the number of input variables to both reduce the computational cost of modeling and, in many cases, to improve the performance of the model. \n",
    "\n",
    "Statistical-based feature selection methods involve evaluating the relationship between each input variable and the target variable using statistics and selecting those input variables that have the strongest relationship with the target variable. These methods can be fast and effective, although the choice of statistical measures depends on the data type of both the input and output variables.\n",
    "\n",
    "As such, it can be challenging for a machine learning practitioner to select an appropriate statistical measure for a dataset when performing filter-based feature selection. In this tutorial, you will discover how to choose statistical measures for filter-based feature selection with numerical and categorical data.\n",
    "\n",
    "* There are two main types of feature selection techniques: supervised and unsupervised, and supervised methods may be divided into wrapper, filter and intrinsic.\n",
    "\n",
    "* Filter-based feature selection methods use statistical measures to score the correlation or dependence between input variables that can be filtered to choose the most relevant features.\n",
    "\n",
    "* Statistical measures for feature selection must be carefully chosen based on the data type of the input variable and the output or response variable.\n",
    "\n",
    "<h2 style=text-align:left;color:lime;font:bold> Statistics for Feature Selection </h2>\n",
    "\n",
    "One way to think about feature selection methods are in terms of supervised and unsupervised methods. The difference has to do with whether features are selected based on the target variable or not.\n",
    ">  Unsupervised Selection: Do not use the target variable (e.g. remove redundant variables).\n",
    "\n",
    ">  Supervised Selection: Use the target variable (e.g. remove irrelevant variables)."
   ]
  },
  {
   "cell_type": "markdown",
   "metadata": {},
   "source": [
    "Supervised feature selection methods may further be classified into three groups, including\n",
    "intrinsic, wrapper, filter methods.\n",
    "* Intrinsic: Algorithms that perform automatic feature selection during training.\n",
    "* Filter: Select subsets of features based on their relationship with the target.\n",
    "* Wrapper: Search subsets of features that perform according to a predictive model."
   ]
  },
  {
   "cell_type": "markdown",
   "metadata": {},
   "source": [
    "### Numerical Input, Numerical Output\n",
    "* Pearson’s correlation coefficient (linear)\n",
    "* Spearman’s rank coefficient (nonlinear)\n",
    "* Mutual Information\n",
    "\n",
    "### Numerical Input, Categorical Output\n",
    "* ANOVA correlation coefficient (linear)\n",
    "* Kendall’s rank coefficient (nonlinear)\n",
    "* Mutual Information.\n",
    "\n",
    "### Categorical Input, Numerical Output\n",
    "* ANOVA correlation coefficient (linear)\n",
    "* Kendall’s rank coefficient (nonlinear)\n",
    "* Mutual Information.\n",
    "\n",
    "### Categorical Input, Categorical Output\n",
    "* Chi-Squared test (contingency tables)\n",
    "* Mutual Information (information gain)"
   ]
  },
  {
   "cell_type": "markdown",
   "metadata": {},
   "source": [
    "<h2 style=text-align:left;color:lime;font:bold> Feature Selection With Any Data Type </h2>\n",
    "\n",
    "* Tree-Searching Methods (depth-first, breadth-first, etc.)\n",
    "* Stochastic Global Search (simulated annealing, genetic algorithm)\n",
    "\n",
    "Simpler methods involve systematically adding or removing features from the model until no further improvement is seen. This includes so-called step-wise models\n",
    "\n",
    "* Step-Wise Models\n",
    "* RFE\n",
    "\n",
    "A final data type agnostic method is to score input features using a model and use a filter-based feature selection method. Many models will automatically select features or score features as part of fitting the model and these scores can be used just like the statistical methods described above. Decision tree algorithms and ensembles of decision tree algorithms provide a input variable data type agnostic method of scoring input variables, including algorithms such as:\n",
    "\n",
    "* Classification and Regression Trees (CART)\n",
    "* Random Forest\n",
    "* Bagged Decision Trees\n",
    "* Gradient Boosting"
   ]
  },
  {
   "cell_type": "markdown",
   "metadata": {},
   "source": [
    "<h2 style=text-align:left;color:lime;font:bold> How to Select Categorical input features </h2>"
   ]
  },
  {
   "cell_type": "markdown",
   "metadata": {},
   "source": [
    "### Categorical Feature Selection\n",
    "* Chi-squared statistic\n",
    "* Mutual information statistic"
   ]
  },
  {
   "cell_type": "code",
   "execution_count": 34,
   "metadata": {},
   "outputs": [],
   "source": [
    "# load libraries\n",
    "import pandas as pd\n",
    "from sklearn.model_selection import train_test_split\n",
    "from sklearn.preprocessing import OrdinalEncoder,LabelEncoder\n",
    "import matplotlib.pyplot as plt"
   ]
  },
  {
   "cell_type": "code",
   "execution_count": 35,
   "metadata": {},
   "outputs": [],
   "source": [
    "# load the dataset\n",
    "from sklearn.feature_selection import SelectKBest\n",
    "\n",
    "\n",
    "def load_dataset(filename):\n",
    "    data = pd.read_csv(filename,header=None)\n",
    "    dataset = data.values\n",
    "    X = dataset[:,:-1]\n",
    "    y = dataset[:,-1]\n",
    "    X = X.astype(str)\n",
    "    return X, y\n",
    "\n",
    "# prepare input data\n",
    "def prepare_inputs(X, X_train, X_test):\n",
    "    oe = OrdinalEncoder()\n",
    "    oe.fit(X)\n",
    "    X_train_enc = oe.transform(X_train)\n",
    "    X_test_enc = oe.transform(X_test)\n",
    "    return X_train_enc, X_test_enc\n",
    "\n",
    "# prepare output data\n",
    "def prepare_outputs(y_train, y_test):\n",
    "    le = LabelEncoder()\n",
    "    le.fit(y_train)\n",
    "    y_train_enc = le.transform(y_train)\n",
    "    y_test_enc = le.transform(y_test)\n",
    "    return y_train_enc, y_test_enc\n",
    "\n",
    "def select_features(X_train_enc, y_train_enc, X_test_enc):\n",
    "    fs = SelectKBest(score_func=chi2, k = \"all\")\n",
    "    fs.fit(X_train_enc, y_train_enc)\n",
    "    X_train_enc_fs = fs.transform(X_train_enc)\n",
    "    X_test_enc_fs = fs.transform(X_test_enc)\n",
    "    return X_train_enc_fs, X_test_enc_fs, fs"
   ]
  },
  {
   "cell_type": "code",
   "execution_count": 37,
   "metadata": {},
   "outputs": [
    {
     "name": "stdout",
     "output_type": "stream",
     "text": [
      "Feature 0 : 0.003227\n",
      "Feature 1 : 0.269693\n",
      "Feature 2 : 6.239899\n",
      "Feature 3 : 102.498674\n",
      "Feature 4 : 16.425408\n",
      "Feature 5 : 12.775301\n",
      "Feature 6 : 0.381045\n",
      "Feature 7 : 0.110901\n",
      "Feature 8 : 9.139402\n"
     ]
    },
    {
     "data": {
      "text/plain": [
       "<function matplotlib.pyplot.show(close=None, block=None)>"
      ]
     },
     "execution_count": 37,
     "metadata": {},
     "output_type": "execute_result"
    },
    {
     "data": {
      "image/png": "[encoded data removed]",
      "text/plain": [
       "<Figure size 432x288 with 1 Axes>"
      ]
     },
     "metadata": {
      "needs_background": "light"
     },
     "output_type": "display_data"
    }
   ],
   "source": [
    "# Load the dataset\n",
    "X, y = load_dataset(\"/Users/manideepbangaru/Documents/EDAnMLApply/Datasets/breast-cancer.csv\")\n",
    "\n",
    "# Split data into train and test sets\n",
    "X_train, X_test, y_train, y_test = train_test_split(X, y, test_size=0.33, random_state=123)\n",
    "\n",
    "# Prepare input data\n",
    "X_train_enc, X_test_enc = prepare_inputs(X, X_train,X_test)\n",
    "\n",
    "# Prepare output data\n",
    "y_train_enc, y_test_enc = prepare_outputs(y_train, y_test)\n",
    "\n",
    "# feature selection\n",
    "X_train_enc_fs, X_test_enc_fs, fs = select_features(X_train_enc, y_train_enc, X_test_enc)\n",
    "\n",
    "# scores for the features\n",
    "for i in range(len(fs.scores_)):\n",
    "    print(\"Feature %s : %f\"%(i,fs.scores_[i]))\n",
    "\n",
    "# plot the scores\n",
    "plt.bar([i for i in range(len(fs.scores_))],fs.scores_)\n",
    "plt.show\n"
   ]
  },
  {
   "cell_type": "markdown",
   "metadata": {},
   "source": [
    "> We could see from the above graph that only 4 features are relevant, so we can set k value to 4"
   ]
  },
  {
   "cell_type": "markdown",
   "metadata": {},
   "source": []
  }
 ],
 "metadata": {
  "kernelspec": {
   "display_name": "Python 3.10.4 ('.mlenv': venv)",
   "language": "python",
   "name": "python3"
  },
  "language_info": {
   "codemirror_mode": {
    "name": "ipython",
    "version": 3
   },
   "file_extension": ".py",
   "mimetype": "text/x-python",
   "name": "python",
   "nbconvert_exporter": "python",
   "pygments_lexer": "ipython3",
   "version": "3.10.4"
  },
  "orig_nbformat": 4,
  "vscode": {
   "interpreter": {
    "hash": "cedfd3e4b37a9720fe3b219ed0a866f6a3a20179a0ee2a520f69b6a410e4f49a"
   }
  }
 },
 "nbformat": 4,
 "nbformat_minor": 2
}
