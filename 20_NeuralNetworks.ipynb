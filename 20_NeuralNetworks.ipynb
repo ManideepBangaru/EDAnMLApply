{
 "cells": [
  {
   "attachments": {},
   "cell_type": "markdown",
   "metadata": {},
   "source": [
    "<h1 align=center> Basic Neural Network </h1>"
   ]
  },
  {
   "attachments": {},
   "cell_type": "markdown",
   "metadata": {},
   "source": [
    "## Import libraries"
   ]
  },
  {
   "cell_type": "code",
   "execution_count": 43,
   "metadata": {},
   "outputs": [],
   "source": [
    "import tensorflow as tf\n",
    "from tensorflow import keras\n",
    "import numpy as np"
   ]
  },
  {
   "cell_type": "code",
   "execution_count": 44,
   "metadata": {},
   "outputs": [],
   "source": [
    "# fix random seed for reproducibility\n",
    "seed = 123\n",
    "np.random.seed(seed)"
   ]
  },
  {
   "attachments": {},
   "cell_type": "markdown",
   "metadata": {},
   "source": [
    "## Load dataset"
   ]
  },
  {
   "cell_type": "code",
   "execution_count": 45,
   "metadata": {},
   "outputs": [
    {
     "data": {
      "text/plain": [
       "array([[  6.   , 148.   ,  72.   , ...,   0.627,  50.   ,   1.   ],\n",
       "       [  1.   ,  85.   ,  66.   , ...,   0.351,  31.   ,   0.   ],\n",
       "       [  8.   , 183.   ,  64.   , ...,   0.672,  32.   ,   1.   ],\n",
       "       ...,\n",
       "       [  5.   , 121.   ,  72.   , ...,   0.245,  30.   ,   0.   ],\n",
       "       [  1.   , 126.   ,  60.   , ...,   0.349,  47.   ,   1.   ],\n",
       "       [  1.   ,  93.   ,  70.   , ...,   0.315,  23.   ,   0.   ]])"
      ]
     },
     "execution_count": 45,
     "metadata": {},
     "output_type": "execute_result"
    }
   ],
   "source": [
    "# Load pima dataset\n",
    "df_np = np.loadtxt(\"Datasets/Diabetes/pima-indians-diabetes.csv\", delimiter=\",\")\n",
    "df_np"
   ]
  },
  {
   "cell_type": "code",
   "execution_count": 46,
   "metadata": {},
   "outputs": [],
   "source": [
    "# Split into input(X) and output(y) variables\n",
    "X = df_np[:,0:8]\n",
    "Y = df_np[:,8]"
   ]
  },
  {
   "attachments": {},
   "cell_type": "markdown",
   "metadata": {},
   "source": [
    "## Define Model"
   ]
  },
  {
   "cell_type": "code",
   "execution_count": 47,
   "metadata": {},
   "outputs": [],
   "source": [
    "# defining model\n",
    "from keras.models import Sequential\n",
    "from keras.layers import Dense"
   ]
  },
  {
   "cell_type": "code",
   "execution_count": 50,
   "metadata": {},
   "outputs": [],
   "source": [
    "model = Sequential()\n",
    "model.add(Dense(12, input_dim = 8, activation = \"relu\"))\n",
    "model.add(Dense(8, activation = \"relu\"))\n",
    "model.add(Dense(1, activation=\"sigmoid\"))"
   ]
  },
  {
   "attachments": {},
   "cell_type": "markdown",
   "metadata": {},
   "source": [
    "## Compile Model"
   ]
  },
  {
   "cell_type": "code",
   "execution_count": 51,
   "metadata": {},
   "outputs": [],
   "source": [
    "model.compile(loss=\"binary_crossentropy\", optimizer='adam', metrics=[\"accuracy\"])"
   ]
  },
  {
   "attachments": {},
   "cell_type": "markdown",
   "metadata": {},
   "source": [
    "## Fit Model"
   ]
  },
  {
   "cell_type": "code",
   "execution_count": 52,
   "metadata": {},
   "outputs": [
    {
     "name": "stdout",
     "output_type": "stream",
     "text": [
      "Epoch 1/150\n",
      "77/77 [==============================] - 1s 1ms/step - loss: 2.0630 - accuracy: 0.5677\n",
      "Epoch 2/150\n",
      "77/77 [==============================] - 0s 1ms/step - loss: 1.5772 - accuracy: 0.5898\n",
      "Epoch 3/150\n",
      "77/77 [==============================] - 0s 1ms/step - loss: 1.1508 - accuracy: 0.5911\n",
      "Epoch 4/150\n",
      "77/77 [==============================] - 0s 1ms/step - loss: 0.8817 - accuracy: 0.5677\n",
      "Epoch 5/150\n",
      "77/77 [==============================] - 0s 1ms/step - loss: 0.7917 - accuracy: 0.5807\n",
      "Epoch 6/150\n",
      "77/77 [==============================] - 0s 1ms/step - loss: 0.7414 - accuracy: 0.5924\n",
      "Epoch 7/150\n",
      "77/77 [==============================] - 0s 1ms/step - loss: 0.6985 - accuracy: 0.6185\n",
      "Epoch 8/150\n",
      "77/77 [==============================] - 0s 1ms/step - loss: 0.6704 - accuracy: 0.6328\n",
      "Epoch 9/150\n",
      "77/77 [==============================] - 0s 1ms/step - loss: 0.6661 - accuracy: 0.6510\n",
      "Epoch 10/150\n",
      "77/77 [==============================] - 0s 941us/step - loss: 0.6524 - accuracy: 0.6667\n",
      "Epoch 11/150\n",
      "77/77 [==============================] - 0s 965us/step - loss: 0.6506 - accuracy: 0.6784\n",
      "Epoch 12/150\n",
      "77/77 [==============================] - 0s 1ms/step - loss: 0.6506 - accuracy: 0.6706\n",
      "Epoch 13/150\n",
      "77/77 [==============================] - 0s 853us/step - loss: 0.6411 - accuracy: 0.6810\n",
      "Epoch 14/150\n",
      "77/77 [==============================] - 0s 2ms/step - loss: 0.6342 - accuracy: 0.6927\n",
      "Epoch 15/150\n",
      "77/77 [==============================] - 0s 851us/step - loss: 0.6413 - accuracy: 0.6836\n",
      "Epoch 16/150\n",
      "77/77 [==============================] - 0s 819us/step - loss: 0.6341 - accuracy: 0.6953\n",
      "Epoch 17/150\n",
      "77/77 [==============================] - 0s 916us/step - loss: 0.6257 - accuracy: 0.7044\n",
      "Epoch 18/150\n",
      "77/77 [==============================] - 0s 911us/step - loss: 0.6269 - accuracy: 0.7031\n",
      "Epoch 19/150\n",
      "77/77 [==============================] - 0s 1ms/step - loss: 0.6298 - accuracy: 0.6901\n",
      "Epoch 20/150\n",
      "77/77 [==============================] - 0s 1ms/step - loss: 0.6291 - accuracy: 0.6849\n",
      "Epoch 21/150\n",
      "77/77 [==============================] - 0s 1ms/step - loss: 0.6159 - accuracy: 0.6836\n",
      "Epoch 22/150\n",
      "77/77 [==============================] - 0s 2ms/step - loss: 0.6236 - accuracy: 0.6836\n",
      "Epoch 23/150\n",
      "77/77 [==============================] - 0s 1ms/step - loss: 0.6086 - accuracy: 0.6966\n",
      "Epoch 24/150\n",
      "77/77 [==============================] - 0s 1ms/step - loss: 0.6085 - accuracy: 0.6797\n",
      "Epoch 25/150\n",
      "77/77 [==============================] - 0s 1ms/step - loss: 0.6045 - accuracy: 0.6875\n",
      "Epoch 26/150\n",
      "77/77 [==============================] - 0s 923us/step - loss: 0.6024 - accuracy: 0.6927\n",
      "Epoch 27/150\n",
      "77/77 [==============================] - 0s 1ms/step - loss: 0.6047 - accuracy: 0.7096\n",
      "Epoch 28/150\n",
      "77/77 [==============================] - 0s 1ms/step - loss: 0.6027 - accuracy: 0.6927\n",
      "Epoch 29/150\n",
      "77/77 [==============================] - 0s 1ms/step - loss: 0.5898 - accuracy: 0.7018\n",
      "Epoch 30/150\n",
      "77/77 [==============================] - 0s 1ms/step - loss: 0.5984 - accuracy: 0.7070\n",
      "Epoch 31/150\n",
      "77/77 [==============================] - 0s 1ms/step - loss: 0.5963 - accuracy: 0.6979\n",
      "Epoch 32/150\n",
      "77/77 [==============================] - 0s 1ms/step - loss: 0.5840 - accuracy: 0.7135\n",
      "Epoch 33/150\n",
      "77/77 [==============================] - 0s 2ms/step - loss: 0.5896 - accuracy: 0.7057\n",
      "Epoch 34/150\n",
      "77/77 [==============================] - 0s 1ms/step - loss: 0.5849 - accuracy: 0.7070\n",
      "Epoch 35/150\n",
      "77/77 [==============================] - 0s 1ms/step - loss: 0.5784 - accuracy: 0.7188\n",
      "Epoch 36/150\n",
      "77/77 [==============================] - 0s 1ms/step - loss: 0.5779 - accuracy: 0.7201\n",
      "Epoch 37/150\n",
      "77/77 [==============================] - 0s 1ms/step - loss: 0.5873 - accuracy: 0.7005\n",
      "Epoch 38/150\n",
      "77/77 [==============================] - 0s 1ms/step - loss: 0.5736 - accuracy: 0.7044\n",
      "Epoch 39/150\n",
      "77/77 [==============================] - 0s 945us/step - loss: 0.5642 - accuracy: 0.7266\n",
      "Epoch 40/150\n",
      "77/77 [==============================] - 0s 1ms/step - loss: 0.5633 - accuracy: 0.7148\n",
      "Epoch 41/150\n",
      "77/77 [==============================] - 0s 1ms/step - loss: 0.5650 - accuracy: 0.7201\n",
      "Epoch 42/150\n",
      "77/77 [==============================] - 0s 967us/step - loss: 0.5578 - accuracy: 0.7279\n",
      "Epoch 43/150\n",
      "77/77 [==============================] - 0s 952us/step - loss: 0.5524 - accuracy: 0.7266\n",
      "Epoch 44/150\n",
      "77/77 [==============================] - 0s 911us/step - loss: 0.5578 - accuracy: 0.7240\n",
      "Epoch 45/150\n",
      "77/77 [==============================] - 0s 842us/step - loss: 0.5549 - accuracy: 0.7396\n",
      "Epoch 46/150\n",
      "77/77 [==============================] - 0s 2ms/step - loss: 0.5482 - accuracy: 0.7474\n",
      "Epoch 47/150\n",
      "77/77 [==============================] - 0s 867us/step - loss: 0.5516 - accuracy: 0.7383\n",
      "Epoch 48/150\n",
      "77/77 [==============================] - 0s 824us/step - loss: 0.5507 - accuracy: 0.7214\n",
      "Epoch 49/150\n",
      "77/77 [==============================] - 0s 836us/step - loss: 0.5513 - accuracy: 0.7253\n",
      "Epoch 50/150\n",
      "77/77 [==============================] - 0s 831us/step - loss: 0.5476 - accuracy: 0.7383\n",
      "Epoch 51/150\n",
      "77/77 [==============================] - 0s 841us/step - loss: 0.5480 - accuracy: 0.7292\n",
      "Epoch 52/150\n",
      "77/77 [==============================] - 0s 850us/step - loss: 0.5486 - accuracy: 0.7357\n",
      "Epoch 53/150\n",
      "77/77 [==============================] - 0s 845us/step - loss: 0.5410 - accuracy: 0.7409\n",
      "Epoch 54/150\n",
      "77/77 [==============================] - 0s 850us/step - loss: 0.5435 - accuracy: 0.7292\n",
      "Epoch 55/150\n",
      "77/77 [==============================] - 0s 913us/step - loss: 0.5376 - accuracy: 0.7370\n",
      "Epoch 56/150\n",
      "77/77 [==============================] - 0s 859us/step - loss: 0.5370 - accuracy: 0.7396\n",
      "Epoch 57/150\n",
      "77/77 [==============================] - 0s 928us/step - loss: 0.5378 - accuracy: 0.7370\n",
      "Epoch 58/150\n",
      "77/77 [==============================] - 0s 861us/step - loss: 0.5292 - accuracy: 0.7461\n",
      "Epoch 59/150\n",
      "77/77 [==============================] - 0s 1ms/step - loss: 0.5484 - accuracy: 0.7227\n",
      "Epoch 60/150\n",
      "77/77 [==============================] - 0s 818us/step - loss: 0.5331 - accuracy: 0.7409\n",
      "Epoch 61/150\n",
      "77/77 [==============================] - 0s 869us/step - loss: 0.5286 - accuracy: 0.7474\n",
      "Epoch 62/150\n",
      "77/77 [==============================] - 0s 846us/step - loss: 0.5414 - accuracy: 0.7214\n",
      "Epoch 63/150\n",
      "77/77 [==============================] - 0s 896us/step - loss: 0.5258 - accuracy: 0.7526\n",
      "Epoch 64/150\n",
      "77/77 [==============================] - 0s 815us/step - loss: 0.5321 - accuracy: 0.7474\n",
      "Epoch 65/150\n",
      "77/77 [==============================] - 0s 840us/step - loss: 0.5347 - accuracy: 0.7370\n",
      "Epoch 66/150\n",
      "77/77 [==============================] - 0s 856us/step - loss: 0.5340 - accuracy: 0.7344\n",
      "Epoch 67/150\n",
      "77/77 [==============================] - 0s 888us/step - loss: 0.5246 - accuracy: 0.7422\n",
      "Epoch 68/150\n",
      "77/77 [==============================] - 0s 987us/step - loss: 0.5239 - accuracy: 0.7422\n",
      "Epoch 69/150\n",
      "77/77 [==============================] - 0s 845us/step - loss: 0.5200 - accuracy: 0.7474\n",
      "Epoch 70/150\n",
      "77/77 [==============================] - 0s 858us/step - loss: 0.5226 - accuracy: 0.7435\n",
      "Epoch 71/150\n",
      "77/77 [==============================] - 0s 2ms/step - loss: 0.5207 - accuracy: 0.7474\n",
      "Epoch 72/150\n",
      "77/77 [==============================] - 0s 838us/step - loss: 0.5234 - accuracy: 0.7422\n",
      "Epoch 73/150\n",
      "77/77 [==============================] - 0s 865us/step - loss: 0.5236 - accuracy: 0.7344\n",
      "Epoch 74/150\n",
      "77/77 [==============================] - 0s 859us/step - loss: 0.5156 - accuracy: 0.7513\n",
      "Epoch 75/150\n",
      "77/77 [==============================] - 0s 890us/step - loss: 0.5172 - accuracy: 0.7552\n",
      "Epoch 76/150\n",
      "77/77 [==============================] - 0s 1ms/step - loss: 0.5299 - accuracy: 0.7487\n",
      "Epoch 77/150\n",
      "77/77 [==============================] - 0s 870us/step - loss: 0.5200 - accuracy: 0.7526\n",
      "Epoch 78/150\n",
      "77/77 [==============================] - 0s 872us/step - loss: 0.5126 - accuracy: 0.7474\n",
      "Epoch 79/150\n",
      "77/77 [==============================] - 0s 889us/step - loss: 0.5186 - accuracy: 0.7487\n",
      "Epoch 80/150\n",
      "77/77 [==============================] - 0s 822us/step - loss: 0.5192 - accuracy: 0.7474\n",
      "Epoch 81/150\n",
      "77/77 [==============================] - 0s 825us/step - loss: 0.5158 - accuracy: 0.7435\n",
      "Epoch 82/150\n",
      "77/77 [==============================] - 0s 828us/step - loss: 0.5163 - accuracy: 0.7500\n",
      "Epoch 83/150\n",
      "77/77 [==============================] - 0s 2ms/step - loss: 0.5226 - accuracy: 0.7526\n",
      "Epoch 84/150\n",
      "77/77 [==============================] - 0s 864us/step - loss: 0.5094 - accuracy: 0.7526\n",
      "Epoch 85/150\n",
      "77/77 [==============================] - 0s 1ms/step - loss: 0.5082 - accuracy: 0.7578\n",
      "Epoch 86/150\n",
      "77/77 [==============================] - 0s 816us/step - loss: 0.5071 - accuracy: 0.7565\n",
      "Epoch 87/150\n",
      "77/77 [==============================] - 0s 813us/step - loss: 0.5194 - accuracy: 0.7500\n",
      "Epoch 88/150\n",
      "77/77 [==============================] - 0s 794us/step - loss: 0.5138 - accuracy: 0.7448\n",
      "Epoch 89/150\n",
      "77/77 [==============================] - 0s 818us/step - loss: 0.5068 - accuracy: 0.7526\n",
      "Epoch 90/150\n",
      "77/77 [==============================] - 0s 805us/step - loss: 0.5082 - accuracy: 0.7526\n",
      "Epoch 91/150\n",
      "77/77 [==============================] - 0s 866us/step - loss: 0.5100 - accuracy: 0.7526\n",
      "Epoch 92/150\n",
      "77/77 [==============================] - 0s 812us/step - loss: 0.5140 - accuracy: 0.7500\n",
      "Epoch 93/150\n",
      "77/77 [==============================] - 0s 818us/step - loss: 0.5051 - accuracy: 0.7591\n",
      "Epoch 94/150\n",
      "77/77 [==============================] - 0s 758us/step - loss: 0.5034 - accuracy: 0.7695\n",
      "Epoch 95/150\n",
      "77/77 [==============================] - 0s 1ms/step - loss: 0.5095 - accuracy: 0.7474\n",
      "Epoch 96/150\n",
      "77/77 [==============================] - 0s 1ms/step - loss: 0.4988 - accuracy: 0.7630\n",
      "Epoch 97/150\n",
      "77/77 [==============================] - 0s 810us/step - loss: 0.5033 - accuracy: 0.7565\n",
      "Epoch 98/150\n",
      "77/77 [==============================] - 0s 847us/step - loss: 0.5014 - accuracy: 0.7630\n",
      "Epoch 99/150\n",
      "77/77 [==============================] - 0s 839us/step - loss: 0.5004 - accuracy: 0.7617\n",
      "Epoch 100/150\n",
      "77/77 [==============================] - 0s 844us/step - loss: 0.4930 - accuracy: 0.7604\n",
      "Epoch 101/150\n",
      "77/77 [==============================] - 0s 856us/step - loss: 0.5024 - accuracy: 0.7526\n",
      "Epoch 102/150\n",
      "77/77 [==============================] - 0s 832us/step - loss: 0.5052 - accuracy: 0.7578\n",
      "Epoch 103/150\n",
      "77/77 [==============================] - 0s 848us/step - loss: 0.5058 - accuracy: 0.7539\n",
      "Epoch 104/150\n",
      "77/77 [==============================] - 0s 858us/step - loss: 0.5013 - accuracy: 0.7591\n",
      "Epoch 105/150\n",
      "77/77 [==============================] - 0s 881us/step - loss: 0.4969 - accuracy: 0.7643\n",
      "Epoch 106/150\n",
      "77/77 [==============================] - 0s 834us/step - loss: 0.4957 - accuracy: 0.7630\n",
      "Epoch 107/150\n",
      "77/77 [==============================] - 0s 887us/step - loss: 0.4941 - accuracy: 0.7643\n",
      "Epoch 108/150\n",
      "77/77 [==============================] - 0s 2ms/step - loss: 0.4968 - accuracy: 0.7591\n",
      "Epoch 109/150\n",
      "77/77 [==============================] - 0s 828us/step - loss: 0.4899 - accuracy: 0.7526\n",
      "Epoch 110/150\n",
      "77/77 [==============================] - 0s 842us/step - loss: 0.4882 - accuracy: 0.7721\n",
      "Epoch 111/150\n",
      "77/77 [==============================] - 0s 827us/step - loss: 0.4984 - accuracy: 0.7565\n",
      "Epoch 112/150\n",
      "77/77 [==============================] - 0s 884us/step - loss: 0.4996 - accuracy: 0.7643\n",
      "Epoch 113/150\n",
      "77/77 [==============================] - 0s 838us/step - loss: 0.4924 - accuracy: 0.7591\n",
      "Epoch 114/150\n",
      "77/77 [==============================] - 0s 870us/step - loss: 0.4939 - accuracy: 0.7591\n",
      "Epoch 115/150\n",
      "77/77 [==============================] - 0s 1ms/step - loss: 0.4929 - accuracy: 0.7643\n",
      "Epoch 116/150\n",
      "77/77 [==============================] - 0s 864us/step - loss: 0.4940 - accuracy: 0.7552\n",
      "Epoch 117/150\n",
      "77/77 [==============================] - 0s 870us/step - loss: 0.4910 - accuracy: 0.7552\n",
      "Epoch 118/150\n",
      "77/77 [==============================] - 0s 860us/step - loss: 0.4919 - accuracy: 0.7708\n",
      "Epoch 119/150\n",
      "77/77 [==============================] - 0s 896us/step - loss: 0.4849 - accuracy: 0.7656\n",
      "Epoch 120/150\n",
      "77/77 [==============================] - 0s 877us/step - loss: 0.4877 - accuracy: 0.7747\n",
      "Epoch 121/150\n",
      "77/77 [==============================] - 0s 2ms/step - loss: 0.4928 - accuracy: 0.7487\n",
      "Epoch 122/150\n",
      "77/77 [==============================] - 0s 891us/step - loss: 0.4885 - accuracy: 0.7526\n",
      "Epoch 123/150\n",
      "77/77 [==============================] - 0s 838us/step - loss: 0.4892 - accuracy: 0.7539\n",
      "Epoch 124/150\n",
      "77/77 [==============================] - 0s 888us/step - loss: 0.4861 - accuracy: 0.7682\n",
      "Epoch 125/150\n",
      "77/77 [==============================] - 0s 832us/step - loss: 0.4856 - accuracy: 0.7565\n",
      "Epoch 126/150\n",
      "77/77 [==============================] - 0s 875us/step - loss: 0.4850 - accuracy: 0.7643\n",
      "Epoch 127/150\n",
      "77/77 [==============================] - 0s 922us/step - loss: 0.4821 - accuracy: 0.7695\n",
      "Epoch 128/150\n",
      "77/77 [==============================] - 0s 888us/step - loss: 0.4792 - accuracy: 0.7656\n",
      "Epoch 129/150\n",
      "77/77 [==============================] - 0s 909us/step - loss: 0.4824 - accuracy: 0.7617\n",
      "Epoch 130/150\n",
      "77/77 [==============================] - 0s 894us/step - loss: 0.4778 - accuracy: 0.7708\n",
      "Epoch 131/150\n",
      "77/77 [==============================] - 0s 892us/step - loss: 0.4829 - accuracy: 0.7695\n",
      "Epoch 132/150\n",
      "77/77 [==============================] - 0s 2ms/step - loss: 0.4773 - accuracy: 0.7656\n",
      "Epoch 133/150\n",
      "77/77 [==============================] - 0s 868us/step - loss: 0.4803 - accuracy: 0.7695\n",
      "Epoch 134/150\n",
      "77/77 [==============================] - 0s 855us/step - loss: 0.4811 - accuracy: 0.7826\n",
      "Epoch 135/150\n",
      "77/77 [==============================] - 0s 910us/step - loss: 0.4849 - accuracy: 0.7669\n",
      "Epoch 136/150\n",
      "77/77 [==============================] - 0s 833us/step - loss: 0.4805 - accuracy: 0.7669\n",
      "Epoch 137/150\n",
      "77/77 [==============================] - 0s 879us/step - loss: 0.4917 - accuracy: 0.7630\n",
      "Epoch 138/150\n",
      "77/77 [==============================] - 0s 875us/step - loss: 0.4786 - accuracy: 0.7708\n",
      "Epoch 139/150\n",
      "77/77 [==============================] - 0s 958us/step - loss: 0.4740 - accuracy: 0.7799\n",
      "Epoch 140/150\n",
      "77/77 [==============================] - 0s 877us/step - loss: 0.4779 - accuracy: 0.7839\n",
      "Epoch 141/150\n",
      "77/77 [==============================] - 0s 822us/step - loss: 0.4755 - accuracy: 0.7747\n",
      "Epoch 142/150\n",
      "77/77 [==============================] - 0s 878us/step - loss: 0.4844 - accuracy: 0.7617\n",
      "Epoch 143/150\n",
      "77/77 [==============================] - 0s 853us/step - loss: 0.4775 - accuracy: 0.7617\n",
      "Epoch 144/150\n",
      "77/77 [==============================] - 0s 1ms/step - loss: 0.4772 - accuracy: 0.7630\n",
      "Epoch 145/150\n",
      "77/77 [==============================] - 0s 1ms/step - loss: 0.4734 - accuracy: 0.7721\n",
      "Epoch 146/150\n",
      "77/77 [==============================] - 0s 789us/step - loss: 0.4769 - accuracy: 0.7656\n",
      "Epoch 147/150\n",
      "77/77 [==============================] - 0s 924us/step - loss: 0.4723 - accuracy: 0.7682\n",
      "Epoch 148/150\n",
      "77/77 [==============================] - 0s 836us/step - loss: 0.4742 - accuracy: 0.7734\n",
      "Epoch 149/150\n",
      "77/77 [==============================] - 0s 809us/step - loss: 0.4714 - accuracy: 0.7734\n",
      "Epoch 150/150\n",
      "77/77 [==============================] - 0s 1ms/step - loss: 0.4808 - accuracy: 0.7643\n"
     ]
    },
    {
     "data": {
      "text/plain": [
       "<keras.callbacks.History at 0x284ed545510>"
      ]
     },
     "execution_count": 52,
     "metadata": {},
     "output_type": "execute_result"
    }
   ],
   "source": [
    "model.fit(X, Y, epochs=150, batch_size=10)"
   ]
  },
  {
   "attachments": {},
   "cell_type": "markdown",
   "metadata": {},
   "source": [
    "## Evaluate Model"
   ]
  },
  {
   "cell_type": "code",
   "execution_count": 53,
   "metadata": {},
   "outputs": [
    {
     "name": "stdout",
     "output_type": "stream",
     "text": [
      "24/24 [==============================] - 0s 995us/step - loss: 0.4612 - accuracy: 0.7760\n",
      "accuracy: 77.60%\n"
     ]
    }
   ],
   "source": [
    "scores = model.evaluate(X, Y)\n",
    "print(\"%s: %.2f%%\"%(model.metrics_names[1], scores[1]*100))"
   ]
  }
 ],
 "metadata": {
  "kernelspec": {
   "display_name": "ds_env",
   "language": "python",
   "name": "python3"
  },
  "language_info": {
   "codemirror_mode": {
    "name": "ipython",
    "version": 3
   },
   "file_extension": ".py",
   "mimetype": "text/x-python",
   "name": "python",
   "nbconvert_exporter": "python",
   "pygments_lexer": "ipython3",
   "version": "3.10.7"
  },
  "orig_nbformat": 4,
  "vscode": {
   "interpreter": {
    "hash": "7ced672a239be413b6c4cdc92e6f56407f40bb9f9298905530010d4060734521"
   }
  }
 },
 "nbformat": 4,
 "nbformat_minor": 2
}
