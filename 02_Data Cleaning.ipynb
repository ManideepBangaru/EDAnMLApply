{
 "cells": [
  {
   "cell_type": "markdown",
   "metadata": {},
   "source": [
    "<h1 style=text-align:center;color:brown;font:bold> Data PreProcessing </h1>"
   ]
  },
  {
   "cell_type": "markdown",
   "metadata": {},
   "source": [
    "## Divided into 6 parts\n",
    "    * Common Data preparation tasks\n",
    "    * Data Cleaning\n",
    "    * Feature Selection\n",
    "    * Data Transformation\n",
    "    * Feature engineering\n",
    "    * Dimensionality Reduction"
   ]
  },
  {
   "cell_type": "markdown",
   "metadata": {},
   "source": [
    "<h1 style=text-align:center;color:blue;font:bold> Data Cleaning </h1>"
   ]
  },
  {
   "cell_type": "markdown",
   "metadata": {},
   "source": [
    "<h1 style=text-align:left;color:lime;font:bold> Basic Data Cleaning </h1>"
   ]
  },
  {
   "cell_type": "markdown",
   "metadata": {},
   "source": [
    "What we will look for, in this notebook:\n",
    "* How to identify and remove column variables that only have a single value\n",
    "* How to identify and remove column variables that have less unique values\n",
    "* How to identify and remove rows that contain duplicate observations\n",
    "\n",
    "<html> \n",
    "<br>\n",
    "<hr>\n",
    "<br>\n",
    "</html>\n",
    "\n",
    "Dividing into seven parts :\n",
    "1) Messy Datasets\n",
    "2) Identify Columns That Contain a Single Value \n",
    "3) Delete Columns That Contain a Single Value \n",
    "4) Consider Columns That Have Very Few Values \n",
    "5) Remove Columns That Have A Low Variance \n",
    "6) Identify Rows that Contain Duplicate Data\n",
    "7) Delete Rows that Contain Duplicate Data"
   ]
  },
  {
   "cell_type": "code",
   "execution_count": 2,
   "metadata": {},
   "outputs": [],
   "source": [
    "oilDataPath = \"/Users/manideepbangaru/Documents/EDAnMLApply/Datasets/oil-spill-dataset/\""
   ]
  },
  {
   "cell_type": "markdown",
   "metadata": {},
   "source": [
    "#### Messy Datasets"
   ]
  },
  {
   "cell_type": "code",
   "execution_count": 3,
   "metadata": {},
   "outputs": [],
   "source": [
    "# importing the dataset\n",
    "import pandas as pd\n",
    "df = pd.read_csv(oilDataPath + \"oil-spill.csv\", header=None)"
   ]
  },
  {
   "cell_type": "markdown",
   "metadata": {},
   "source": [
    "#### Identify columns that contain a single value"
   ]
  },
  {
   "cell_type": "code",
   "execution_count": 4,
   "metadata": {},
   "outputs": [
    {
     "name": "stdout",
     "output_type": "stream",
     "text": [
      "0     238\n",
      "1     297\n",
      "2     927\n",
      "3     933\n",
      "4     179\n",
      "5     375\n",
      "6     820\n",
      "7     618\n",
      "8     561\n",
      "9      57\n",
      "10    577\n",
      "11     59\n",
      "12     73\n",
      "13    107\n",
      "14     53\n",
      "15     91\n",
      "16    893\n",
      "17    810\n",
      "18    170\n",
      "19     53\n",
      "20     68\n",
      "21      9\n",
      "22      1\n",
      "23     92\n",
      "24      9\n",
      "25      8\n",
      "26      9\n",
      "27    308\n",
      "28    447\n",
      "29    392\n",
      "30    107\n",
      "31     42\n",
      "32      4\n",
      "33     45\n",
      "34    141\n",
      "35    110\n",
      "36      3\n",
      "37    758\n",
      "38      9\n",
      "39      9\n",
      "40    388\n",
      "41    220\n",
      "42    644\n",
      "43    649\n",
      "44    499\n",
      "45      2\n",
      "46    937\n",
      "47    169\n",
      "48    286\n",
      "49      2\n",
      "dtype: int64\n"
     ]
    }
   ],
   "source": [
    "# summarize the number of unique values each column has\n",
    "print(df.nunique())"
   ]
  },
  {
   "cell_type": "markdown",
   "metadata": {},
   "source": [
    "#### Delete columns that contain a single value"
   ]
  },
  {
   "cell_type": "code",
   "execution_count": 5,
   "metadata": {},
   "outputs": [
    {
     "name": "stdout",
     "output_type": "stream",
     "text": [
      "(937, 50)\n"
     ]
    }
   ],
   "source": [
    "print(df.shape)"
   ]
  },
  {
   "cell_type": "code",
   "execution_count": 6,
   "metadata": {},
   "outputs": [],
   "source": [
    "# get number of unique values for each column\n",
    "counts = df.nunique()"
   ]
  },
  {
   "cell_type": "code",
   "execution_count": 7,
   "metadata": {},
   "outputs": [],
   "source": [
    "# record columns to delete\n",
    "to_del = [i for i,v in enumerate(counts) if v==1]"
   ]
  },
  {
   "cell_type": "code",
   "execution_count": 8,
   "metadata": {},
   "outputs": [
    {
     "name": "stdout",
     "output_type": "stream",
     "text": [
      "[22]\n",
      "(937, 49)\n"
     ]
    }
   ],
   "source": [
    "print(to_del)\n",
    "\n",
    "# drop these cols\n",
    "df.drop(to_del, axis=1, inplace=True)\n",
    "\n",
    "print(df.shape)"
   ]
  },
  {
   "cell_type": "markdown",
   "metadata": {},
   "source": [
    "#### Consider columns that have very few values"
   ]
  },
  {
   "cell_type": "code",
   "execution_count": 9,
   "metadata": {},
   "outputs": [
    {
     "name": "stdout",
     "output_type": "stream",
     "text": [
      "0      25.400213\n",
      "1      31.696905\n",
      "2      98.932764\n",
      "3      99.573106\n",
      "4      19.103522\n",
      "5      40.021345\n",
      "6      87.513340\n",
      "7      65.955176\n",
      "8      59.871932\n",
      "9       6.083244\n",
      "10     61.579509\n",
      "11      6.296692\n",
      "12      7.790822\n",
      "13     11.419424\n",
      "14      5.656350\n",
      "15      9.711846\n",
      "16     95.304162\n",
      "17     86.446105\n",
      "18     18.143010\n",
      "19      5.656350\n",
      "20      7.257204\n",
      "21      0.960512\n",
      "23      9.818570\n",
      "24      0.960512\n",
      "25      0.853789\n",
      "26      0.960512\n",
      "27     32.870864\n",
      "28     47.705443\n",
      "29     41.835646\n",
      "30     11.419424\n",
      "31      4.482391\n",
      "32      0.426894\n",
      "33      4.802561\n",
      "34     15.048026\n",
      "35     11.739594\n",
      "36      0.320171\n",
      "37     80.896478\n",
      "38      0.960512\n",
      "39      0.960512\n",
      "40     41.408751\n",
      "41     23.479189\n",
      "42     68.729989\n",
      "43     69.263607\n",
      "44     53.255069\n",
      "45      0.213447\n",
      "46    100.000000\n",
      "47     18.036286\n",
      "48     30.522946\n",
      "49      0.213447\n",
      "dtype: float64\n"
     ]
    }
   ],
   "source": [
    "valPercentages = (df.nunique()/len(df))*100\n",
    "print(valPercentages)"
   ]
  },
  {
   "cell_type": "code",
   "execution_count": 10,
   "metadata": {},
   "outputs": [],
   "source": [
    "filterIndexes = [i for i,v in enumerate(valPercentages) if v<=1]"
   ]
  },
  {
   "cell_type": "code",
   "execution_count": 11,
   "metadata": {},
   "outputs": [],
   "source": [
    "# drop the columns\n",
    "df.drop(filterIndexes, axis=1, inplace=True)"
   ]
  },
  {
   "cell_type": "code",
   "execution_count": 12,
   "metadata": {},
   "outputs": [
    {
     "data": {
      "text/plain": [
       "(937, 39)"
      ]
     },
     "execution_count": 12,
     "metadata": {},
     "output_type": "execute_result"
    }
   ],
   "source": [
    "df.shape"
   ]
  },
  {
   "cell_type": "markdown",
   "metadata": {},
   "source": [
    "#### Remove columns that have a low variance"
   ]
  },
  {
   "cell_type": "code",
   "execution_count": 13,
   "metadata": {},
   "outputs": [
    {
     "name": "stdout",
     "output_type": "stream",
     "text": [
      "Threshold : 0.0, Number of Features : 48\n",
      "Threshold : 0.05, Number of Features : 37\n",
      "Threshold : 0.1, Number of Features : 36\n",
      "Threshold : 0.15000000000000002, Number of Features : 35\n",
      "Threshold : 0.2, Number of Features : 35\n",
      "Threshold : 0.25, Number of Features : 35\n",
      "Threshold : 0.30000000000000004, Number of Features : 35\n",
      "Threshold : 0.35000000000000003, Number of Features : 35\n",
      "Threshold : 0.4, Number of Features : 35\n",
      "Threshold : 0.45, Number of Features : 33\n",
      "Threshold : 0.5, Number of Features : 31\n"
     ]
    },
    {
     "data": {
      "image/png": "[encoded data removed]",
      "text/plain": [
       "<Figure size 432x288 with 1 Axes>"
      ]
     },
     "metadata": {
      "needs_background": "light"
     },
     "output_type": "display_data"
    }
   ],
   "source": [
    "from sklearn.feature_selection import VarianceThreshold\n",
    "from numpy import arange\n",
    "import matplotlib.pyplot as plt\n",
    "\n",
    "df = pd.read_csv(oilDataPath + \"oil-spill.csv\", header=None)\n",
    "\n",
    "# split data into data and outputs\n",
    "X = df.values[:,:-1]\n",
    "y = df.values[:,-1]\n",
    "\n",
    "# define thresholds to check\n",
    "thresholds = arange(0.0, 0.55, 0.05)\n",
    "\n",
    "# Apply threshold with each transform\n",
    "results = []\n",
    "for t in thresholds:\n",
    "    # define the transform\n",
    "    transform = VarianceThreshold(threshold=t)\n",
    "    # transform the input data\n",
    "    X_sel = transform.fit_transform(X)\n",
    "    # determine the number of input features\n",
    "    n_features = X_sel.shape[1]\n",
    "    print(\"Threshold : %s, Number of Features : %s\"%(t,n_features))\n",
    "    results.append(n_features)\n",
    "\n",
    "# let us plot threshold vs features\n",
    "plt.plot(thresholds,results)\n",
    "plt.title(\"Line Plot of Variance Threshold Versus Number of Selected Features\")\n",
    "plt.show()"
   ]
  },
  {
   "cell_type": "markdown",
   "metadata": {},
   "source": [
    "> We can see that even with a small threshold between 0.15 and 0.4, that a large number of features (14) are removed immediately"
   ]
  },
  {
   "cell_type": "markdown",
   "metadata": {},
   "source": [
    "#### Identify rows that contain duplicate data"
   ]
  },
  {
   "cell_type": "code",
   "execution_count": 14,
   "metadata": {},
   "outputs": [
    {
     "name": "stdout",
     "output_type": "stream",
     "text": [
      "False\n",
      "Empty DataFrame\n",
      "Columns: [0, 1, 2, 3, 4, 5, 6, 7, 8, 9, 10, 11, 12, 13, 14, 15, 16, 17, 18, 19, 20, 21, 22, 23, 24, 25, 26, 27, 28, 29, 30, 31, 32, 33, 34, 35, 36, 37, 38, 39, 40, 41, 42, 43, 44, 45, 46, 47, 48, 49]\n",
      "Index: []\n",
      "\n",
      "[0 rows x 50 columns]\n"
     ]
    }
   ],
   "source": [
    "# calculated duplicates\n",
    "dups = df.duplicated()\n",
    "\n",
    "# report if there are any duplicates\n",
    "print(dups.any())\n",
    "\n",
    "# list all duplicate rows\n",
    "print(df[dups])"
   ]
  },
  {
   "cell_type": "markdown",
   "metadata": {},
   "source": [
    "#### Delete rows that contain duplicate data"
   ]
  },
  {
   "cell_type": "code",
   "execution_count": 15,
   "metadata": {},
   "outputs": [
    {
     "name": "stdout",
     "output_type": "stream",
     "text": [
      "(937, 50)\n"
     ]
    }
   ],
   "source": [
    "# delete duplicate rows\n",
    "df.drop_duplicates(inplace=True)\n",
    "df.reset_index(drop=True,inplace=True)\n",
    "print(df.shape)"
   ]
  },
  {
   "cell_type": "markdown",
   "metadata": {},
   "source": [
    "#### Combining everything"
   ]
  },
  {
   "cell_type": "code",
   "execution_count": 16,
   "metadata": {},
   "outputs": [
    {
     "name": "stdout",
     "output_type": "stream",
     "text": [
      "(937, 50)\n",
      "(937, 39)\n",
      "(937, 28)\n",
      "(937, 28)\n"
     ]
    }
   ],
   "source": [
    "from sklearn.feature_selection import VarianceThreshold\n",
    "oildf = pd.read_csv(oilDataPath + \"oil-spill.csv\",header=None)\n",
    "print(oildf.shape)\n",
    "uniquePercentages = round((oildf.nunique()/len(oildf))*100,2)\n",
    "# print(uniquePercentages)\n",
    "uniqueDel = [i for i,v in enumerate(uniquePercentages) if v<=1]\n",
    "oildf.drop(uniqueDel,axis=1,inplace=True)\n",
    "print(oildf.shape)\n",
    "# divide the dataset\n",
    "X = oildf.values[:,:-1]\n",
    "y = oildf.values[:,-1]\n",
    "transform = VarianceThreshold(threshold=0.4)\n",
    "X_sel = transform.fit_transform(X)\n",
    "print(X_sel.shape)\n",
    "X_sel = pd.DataFrame(X_sel)\n",
    "X_sel.drop_duplicates(inplace=True)\n",
    "print(X_sel.shape)"
   ]
  },
  {
   "cell_type": "markdown",
   "metadata": {},
   "source": [
    "<h1 style=text-align:left;color:lime;font:bold> Outlier identification and Removal </h1>"
   ]
  },
  {
   "cell_type": "markdown",
   "metadata": {},
   "source": []
  }
 ],
 "metadata": {
  "interpreter": {
   "hash": "cedfd3e4b37a9720fe3b219ed0a866f6a3a20179a0ee2a520f69b6a410e4f49a"
  },
  "kernelspec": {
   "display_name": "Python 3.10.4 ('.mlenv': venv)",
   "language": "python",
   "name": "python3"
  },
  "language_info": {
   "codemirror_mode": {
    "name": "ipython",
    "version": 3
   },
   "file_extension": ".py",
   "mimetype": "text/x-python",
   "name": "python",
   "nbconvert_exporter": "python",
   "pygments_lexer": "ipython3",
   "version": "3.10.4"
  },
  "orig_nbformat": 4
 },
 "nbformat": 4,
 "nbformat_minor": 2
}
